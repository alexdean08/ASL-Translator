{
  "cells": [
    {
      "cell_type": "markdown",
      "source": [
        "Download Dataset"
      ],
      "metadata": {
        "id": "xfvBObTIZhsl"
      }
    },
    {
      "cell_type": "code",
      "execution_count": null,
      "metadata": {
        "id": "jJ9koGdjvE1T"
      },
      "outputs": [],
      "source": [
        "! pip install --user kaggle\n",
        "! sudo apt install unzip"
      ]
    },
    {
      "cell_type": "code",
      "execution_count": null,
      "metadata": {
        "id": "LsdSwKDQvSKp"
      },
      "outputs": [],
      "source": [
        "! mkdir /root/.kaggle\n",
        "! touch /root/.kaggle/kaggle.json\n",
        "! echo '{\"username\":\"alexdean\",\"key\":\"ee3a7d6203ab285a89ce6ab4f9d88695\"}' > /root/.kaggle/kaggle.json\n",
        "! kaggle datasets download lexset/synthetic-asl-alphabet"
      ]
    },
    {
      "cell_type": "code",
      "execution_count": null,
      "metadata": {
        "id": "L2O2Hx1bviKh"
      },
      "outputs": [],
      "source": [
        "! unzip synthetic-asl-alphabet.zip"
      ]
    },
    {
      "cell_type": "markdown",
      "source": [
        "Import Necessary Libraries"
      ],
      "metadata": {
        "id": "9KJx2ZTzZm-R"
      }
    },
    {
      "cell_type": "code",
      "execution_count": 4,
      "metadata": {
        "id": "bFd1fwSIx67b"
      },
      "outputs": [],
      "source": [
        "import numpy as np # linear algebra\n",
        "import pandas as pd # data processing, CSV file I/O (e.g. pd.read_csv)\n",
        "\n",
        "import tensorflow as tf\n",
        "from tensorflow.keras.models import Sequential\n",
        "from tensorflow.keras.layers import Dense, Dropout, Activation, Flatten, Conv2D, MaxPooling2D\n",
        "from tensorflow.keras.layers import BatchNormalization\n",
        "import cv2\n",
        "from sklearn.utils import shuffle\n",
        "from sklearn.model_selection import train_test_split\n",
        "\n",
        "import os\n",
        "from tqdm import tqdm\n",
        "import string"
      ]
    },
    {
      "cell_type": "markdown",
      "source": [
        "Prepare Images"
      ],
      "metadata": {
        "id": "BNe_UoU_Zq9y"
      }
    },
    {
      "cell_type": "code",
      "execution_count": 5,
      "metadata": {
        "id": "TszufRa3zX8E"
      },
      "outputs": [],
      "source": [
        "def rotate(image, angle):\n",
        "  image_center = tuple(np.array(image.shape[1::-1]) / 2)\n",
        "  rot_mat = cv2.getRotationMatrix2D(image_center, angle, 1.0)\n",
        "  rot_img = cv2.warpAffine(image, rot_mat, image.shape[1::-1], flags=cv2.INTER_LINEAR)\n",
        "  return rot_img"
      ]
    },
    {
      "cell_type": "code",
      "execution_count": 23,
      "metadata": {
        "colab": {
          "base_uri": "https://localhost:8080/"
        },
        "id": "TmhQ7B3vzaVz",
        "outputId": "347f6e29-030d-4886-a82f-a1535460ca45"
      },
      "outputs": [
        {
          "output_type": "stream",
          "name": "stdout",
          "text": [
            "A\n"
          ]
        },
        {
          "output_type": "stream",
          "name": "stderr",
          "text": [
            "100%|██████████| 900/900 [00:09<00:00, 94.65it/s] \n"
          ]
        },
        {
          "output_type": "stream",
          "name": "stdout",
          "text": [
            "B\n"
          ]
        },
        {
          "output_type": "stream",
          "name": "stderr",
          "text": [
            "100%|██████████| 900/900 [00:09<00:00, 94.12it/s] \n"
          ]
        },
        {
          "output_type": "stream",
          "name": "stdout",
          "text": [
            "C\n"
          ]
        },
        {
          "output_type": "stream",
          "name": "stderr",
          "text": [
            "100%|██████████| 900/900 [00:09<00:00, 93.13it/s] \n"
          ]
        },
        {
          "output_type": "stream",
          "name": "stdout",
          "text": [
            "D\n"
          ]
        },
        {
          "output_type": "stream",
          "name": "stderr",
          "text": [
            "100%|██████████| 900/900 [00:09<00:00, 94.03it/s] \n"
          ]
        },
        {
          "output_type": "stream",
          "name": "stdout",
          "text": [
            "E\n"
          ]
        },
        {
          "output_type": "stream",
          "name": "stderr",
          "text": [
            "100%|██████████| 900/900 [00:09<00:00, 96.05it/s] \n"
          ]
        },
        {
          "output_type": "stream",
          "name": "stdout",
          "text": [
            "F\n"
          ]
        },
        {
          "output_type": "stream",
          "name": "stderr",
          "text": [
            "100%|██████████| 900/900 [00:09<00:00, 96.17it/s] \n"
          ]
        },
        {
          "output_type": "stream",
          "name": "stdout",
          "text": [
            "G\n"
          ]
        },
        {
          "output_type": "stream",
          "name": "stderr",
          "text": [
            "100%|██████████| 900/900 [00:09<00:00, 95.74it/s] \n"
          ]
        },
        {
          "output_type": "stream",
          "name": "stdout",
          "text": [
            "H\n"
          ]
        },
        {
          "output_type": "stream",
          "name": "stderr",
          "text": [
            "100%|██████████| 900/900 [00:09<00:00, 90.20it/s] \n"
          ]
        },
        {
          "output_type": "stream",
          "name": "stdout",
          "text": [
            "I\n"
          ]
        },
        {
          "output_type": "stream",
          "name": "stderr",
          "text": [
            "100%|██████████| 900/900 [00:09<00:00, 99.41it/s] \n"
          ]
        },
        {
          "output_type": "stream",
          "name": "stdout",
          "text": [
            "J\n"
          ]
        },
        {
          "output_type": "stream",
          "name": "stderr",
          "text": [
            "100%|██████████| 900/900 [00:08<00:00, 100.30it/s]\n"
          ]
        },
        {
          "output_type": "stream",
          "name": "stdout",
          "text": [
            "K\n"
          ]
        },
        {
          "output_type": "stream",
          "name": "stderr",
          "text": [
            "100%|██████████| 900/900 [00:09<00:00, 99.35it/s] \n"
          ]
        },
        {
          "output_type": "stream",
          "name": "stdout",
          "text": [
            "L\n"
          ]
        },
        {
          "output_type": "stream",
          "name": "stderr",
          "text": [
            "100%|██████████| 900/900 [00:09<00:00, 99.70it/s] \n"
          ]
        },
        {
          "output_type": "stream",
          "name": "stdout",
          "text": [
            "M\n"
          ]
        },
        {
          "output_type": "stream",
          "name": "stderr",
          "text": [
            "100%|██████████| 900/900 [00:09<00:00, 98.51it/s] \n"
          ]
        },
        {
          "output_type": "stream",
          "name": "stdout",
          "text": [
            "N\n"
          ]
        },
        {
          "output_type": "stream",
          "name": "stderr",
          "text": [
            "100%|██████████| 900/900 [00:09<00:00, 97.74it/s] \n"
          ]
        },
        {
          "output_type": "stream",
          "name": "stdout",
          "text": [
            "O\n"
          ]
        },
        {
          "output_type": "stream",
          "name": "stderr",
          "text": [
            "100%|██████████| 900/900 [00:09<00:00, 98.85it/s] \n"
          ]
        },
        {
          "output_type": "stream",
          "name": "stdout",
          "text": [
            "P\n"
          ]
        },
        {
          "output_type": "stream",
          "name": "stderr",
          "text": [
            "100%|██████████| 900/900 [00:09<00:00, 99.43it/s] \n"
          ]
        },
        {
          "output_type": "stream",
          "name": "stdout",
          "text": [
            "Q\n"
          ]
        },
        {
          "output_type": "stream",
          "name": "stderr",
          "text": [
            "100%|██████████| 900/900 [00:08<00:00, 100.85it/s]\n"
          ]
        },
        {
          "output_type": "stream",
          "name": "stdout",
          "text": [
            "R\n"
          ]
        },
        {
          "output_type": "stream",
          "name": "stderr",
          "text": [
            "100%|██████████| 900/900 [00:09<00:00, 90.05it/s] \n"
          ]
        },
        {
          "output_type": "stream",
          "name": "stdout",
          "text": [
            "S\n"
          ]
        },
        {
          "output_type": "stream",
          "name": "stderr",
          "text": [
            "100%|██████████| 900/900 [00:09<00:00, 98.70it/s] \n"
          ]
        },
        {
          "output_type": "stream",
          "name": "stdout",
          "text": [
            "T\n"
          ]
        },
        {
          "output_type": "stream",
          "name": "stderr",
          "text": [
            "100%|██████████| 900/900 [00:09<00:00, 96.79it/s] \n"
          ]
        },
        {
          "output_type": "stream",
          "name": "stdout",
          "text": [
            "U\n"
          ]
        },
        {
          "output_type": "stream",
          "name": "stderr",
          "text": [
            "100%|██████████| 900/900 [00:09<00:00, 98.82it/s] \n"
          ]
        },
        {
          "output_type": "stream",
          "name": "stdout",
          "text": [
            "V\n"
          ]
        },
        {
          "output_type": "stream",
          "name": "stderr",
          "text": [
            "100%|██████████| 900/900 [00:09<00:00, 98.93it/s] \n"
          ]
        },
        {
          "output_type": "stream",
          "name": "stdout",
          "text": [
            "W\n"
          ]
        },
        {
          "output_type": "stream",
          "name": "stderr",
          "text": [
            "100%|██████████| 900/900 [00:09<00:00, 98.47it/s] \n"
          ]
        },
        {
          "output_type": "stream",
          "name": "stdout",
          "text": [
            "X\n"
          ]
        },
        {
          "output_type": "stream",
          "name": "stderr",
          "text": [
            "100%|██████████| 900/900 [00:09<00:00, 98.03it/s] \n"
          ]
        },
        {
          "output_type": "stream",
          "name": "stdout",
          "text": [
            "Y\n"
          ]
        },
        {
          "output_type": "stream",
          "name": "stderr",
          "text": [
            "100%|██████████| 900/900 [00:09<00:00, 98.57it/s] \n"
          ]
        },
        {
          "output_type": "stream",
          "name": "stdout",
          "text": [
            "Z\n"
          ]
        },
        {
          "output_type": "stream",
          "name": "stderr",
          "text": [
            "100%|██████████| 900/900 [00:09<00:00, 98.63it/s] \n"
          ]
        },
        {
          "output_type": "stream",
          "name": "stdout",
          "text": [
            "Blank\n"
          ]
        },
        {
          "output_type": "stream",
          "name": "stderr",
          "text": [
            "100%|██████████| 900/900 [00:08<00:00, 104.61it/s]\n"
          ]
        }
      ],
      "source": [
        "img_size = 100\n",
        "data_dir = \"Train_Alphabet/\"\n",
        "X = []\n",
        "y = []\n",
        "i = -1\n",
        "alphabet = list(string.ascii_uppercase)\n",
        "alphabet.append('Blank')\n",
        "for folder in alphabet:\n",
        "    print(folder)\n",
        "    i+=1\n",
        "    img_num = -45\n",
        "    for img in tqdm(os.listdir(data_dir+folder)):\n",
        "        img_num += 1\n",
        "        if img_num >= 46:\n",
        "          img_num = -45\n",
        "        img_file = cv2.imread(data_dir+folder+'/'+img)\n",
        "        img_file = cv2.cvtColor(img_file, cv2.COLOR_BGR2GRAY)\n",
        "        img_resized = cv2.resize(img_file, (img_size, img_size))\n",
        "        img_resized = rotate(img_resized, img_num*2)\n",
        "        X.append(img_resized)\n",
        "        y.append(i)\n",
        "X = np.asarray(X)\n",
        "y = np.asarray(y)"
      ]
    },
    {
      "cell_type": "code",
      "execution_count": 24,
      "metadata": {
        "id": "fxOZbStI4teA"
      },
      "outputs": [],
      "source": [
        "x_norm=tf.keras.utils.normalize(X, axis=1)"
      ]
    },
    {
      "cell_type": "markdown",
      "source": [
        "CNN"
      ],
      "metadata": {
        "id": "9tZ0oOHMZ1En"
      }
    },
    {
      "cell_type": "code",
      "execution_count": 25,
      "metadata": {
        "id": "mlfLmj9VzbxJ"
      },
      "outputs": [],
      "source": [
        "x_train, x_test, y_train, y_test = train_test_split(x_norm, y, test_size=0.25, shuffle= True)\n",
        "\n",
        "\n",
        "#Instantiation\n",
        "model = Sequential()\n",
        "\n",
        "#1st Convolutional Layer\n",
        "model.add(Conv2D(filters=96, input_shape=(img_size,img_size,1), kernel_size=(11,11), strides=(4,4), padding='same'))\n",
        "model.add(BatchNormalization())\n",
        "model.add(Activation('elu'))\n",
        "model.add(MaxPooling2D(pool_size=(2,2), strides=(2,2), padding='same'))\n",
        "\n",
        "#2nd Convolutional Layer\n",
        "model.add(Conv2D(filters=256, kernel_size=(5, 5), strides=(1,1), padding='same'))\n",
        "model.add(BatchNormalization())\n",
        "model.add(Activation('elu'))\n",
        "model.add(MaxPooling2D(pool_size=(2,2), strides=(2,2), padding='same'))\n",
        "\n",
        "#3rd Convolutional Layer\n",
        "model.add(Conv2D(filters=384, kernel_size=(3,3), strides=(1,1), padding='same'))\n",
        "model.add(BatchNormalization())\n",
        "model.add(Activation('elu'))\n",
        "\n",
        "#4th Convolutional Layer\n",
        "model.add(Conv2D(filters=384, kernel_size=(3,3), strides=(1,1), padding='same'))\n",
        "model.add(BatchNormalization())\n",
        "model.add(Activation('elu'))\n",
        "\n",
        "#5th Convolutional Layer\n",
        "model.add(Conv2D(filters=256, kernel_size=(3,3), strides=(1,1), padding='same'))\n",
        "model.add(BatchNormalization())\n",
        "model.add(Activation('elu'))\n",
        "model.add(MaxPooling2D(pool_size=(2,2), strides=(2,2), padding='same'))\n",
        "\n",
        "#Passing it to a Fully Connected layer\n",
        "model.add(Flatten())\n",
        "# 1st Fully Connected Layer\n",
        "model.add(Dense(4096, input_shape=(32,32,3,)))\n",
        "model.add(BatchNormalization())\n",
        "model.add(Activation('elu'))\n",
        "# Add Dropout to prevent overfitting\n",
        "model.add(Dropout(0.4))\n",
        "\n",
        "#2nd Fully Connected Layer\n",
        "model.add(Dense(4096))\n",
        "model.add(BatchNormalization())\n",
        "model.add(Activation('elu'))\n",
        "#Add Dropout\n",
        "model.add(Dropout(0.4))\n",
        "\n",
        "#3rd Fully Connected Layer\n",
        "model.add(Dense(4096))\n",
        "model.add(BatchNormalization())\n",
        "model.add(Activation('elu'))\n",
        "#Add Dropout\n",
        "model.add(Dropout(0.4))\n",
        "\n",
        "#Output Layer\n",
        "model.add(Dense(27))\n",
        "model.add(BatchNormalization())\n",
        "model.add(Activation('softmax'))\n",
        "\n",
        "model.compile(loss='sparse_categorical_crossentropy', optimizer='adam', metrics=['accuracy'])"
      ]
    },
    {
      "cell_type": "code",
      "execution_count": 26,
      "metadata": {
        "id": "T_1sxbpZHOTV",
        "colab": {
          "base_uri": "https://localhost:8080/"
        },
        "outputId": "a571bfb0-748f-4053-ad9a-16e322a858e7"
      },
      "outputs": [
        {
          "output_type": "stream",
          "name": "stdout",
          "text": [
            "Model: \"sequential_1\"\n",
            "_________________________________________________________________\n",
            " Layer (type)                Output Shape              Param #   \n",
            "=================================================================\n",
            " conv2d_5 (Conv2D)           (None, 25, 25, 96)        11712     \n",
            "                                                                 \n",
            " batch_normalization_9 (Batc  (None, 25, 25, 96)       384       \n",
            " hNormalization)                                                 \n",
            "                                                                 \n",
            " activation_9 (Activation)   (None, 25, 25, 96)        0         \n",
            "                                                                 \n",
            " max_pooling2d_3 (MaxPooling  (None, 13, 13, 96)       0         \n",
            " 2D)                                                             \n",
            "                                                                 \n",
            " conv2d_6 (Conv2D)           (None, 13, 13, 256)       614656    \n",
            "                                                                 \n",
            " batch_normalization_10 (Bat  (None, 13, 13, 256)      1024      \n",
            " chNormalization)                                                \n",
            "                                                                 \n",
            " activation_10 (Activation)  (None, 13, 13, 256)       0         \n",
            "                                                                 \n",
            " max_pooling2d_4 (MaxPooling  (None, 7, 7, 256)        0         \n",
            " 2D)                                                             \n",
            "                                                                 \n",
            " conv2d_7 (Conv2D)           (None, 7, 7, 384)         885120    \n",
            "                                                                 \n",
            " batch_normalization_11 (Bat  (None, 7, 7, 384)        1536      \n",
            " chNormalization)                                                \n",
            "                                                                 \n",
            " activation_11 (Activation)  (None, 7, 7, 384)         0         \n",
            "                                                                 \n",
            " conv2d_8 (Conv2D)           (None, 7, 7, 384)         1327488   \n",
            "                                                                 \n",
            " batch_normalization_12 (Bat  (None, 7, 7, 384)        1536      \n",
            " chNormalization)                                                \n",
            "                                                                 \n",
            " activation_12 (Activation)  (None, 7, 7, 384)         0         \n",
            "                                                                 \n",
            " conv2d_9 (Conv2D)           (None, 7, 7, 256)         884992    \n",
            "                                                                 \n",
            " batch_normalization_13 (Bat  (None, 7, 7, 256)        1024      \n",
            " chNormalization)                                                \n",
            "                                                                 \n",
            " activation_13 (Activation)  (None, 7, 7, 256)         0         \n",
            "                                                                 \n",
            " max_pooling2d_5 (MaxPooling  (None, 4, 4, 256)        0         \n",
            " 2D)                                                             \n",
            "                                                                 \n",
            " flatten_1 (Flatten)         (None, 4096)              0         \n",
            "                                                                 \n",
            " dense_4 (Dense)             (None, 4096)              16781312  \n",
            "                                                                 \n",
            " batch_normalization_14 (Bat  (None, 4096)             16384     \n",
            " chNormalization)                                                \n",
            "                                                                 \n",
            " activation_14 (Activation)  (None, 4096)              0         \n",
            "                                                                 \n",
            " dropout_3 (Dropout)         (None, 4096)              0         \n",
            "                                                                 \n",
            " dense_5 (Dense)             (None, 4096)              16781312  \n",
            "                                                                 \n",
            " batch_normalization_15 (Bat  (None, 4096)             16384     \n",
            " chNormalization)                                                \n",
            "                                                                 \n",
            " activation_15 (Activation)  (None, 4096)              0         \n",
            "                                                                 \n",
            " dropout_4 (Dropout)         (None, 4096)              0         \n",
            "                                                                 \n",
            " dense_6 (Dense)             (None, 4096)              16781312  \n",
            "                                                                 \n",
            " batch_normalization_16 (Bat  (None, 4096)             16384     \n",
            " chNormalization)                                                \n",
            "                                                                 \n",
            " activation_16 (Activation)  (None, 4096)              0         \n",
            "                                                                 \n",
            " dropout_5 (Dropout)         (None, 4096)              0         \n",
            "                                                                 \n",
            " dense_7 (Dense)             (None, 27)                110619    \n",
            "                                                                 \n",
            " batch_normalization_17 (Bat  (None, 27)               108       \n",
            " chNormalization)                                                \n",
            "                                                                 \n",
            " activation_17 (Activation)  (None, 27)                0         \n",
            "                                                                 \n",
            "=================================================================\n",
            "Total params: 54,233,287\n",
            "Trainable params: 54,205,905\n",
            "Non-trainable params: 27,382\n",
            "_________________________________________________________________\n"
          ]
        }
      ],
      "source": [
        "model.summary()"
      ]
    },
    {
      "cell_type": "markdown",
      "source": [
        "Train the Neural Net"
      ],
      "metadata": {
        "id": "Q3BrWoFAZ4em"
      }
    },
    {
      "cell_type": "code",
      "execution_count": 27,
      "metadata": {
        "colab": {
          "base_uri": "https://localhost:8080/"
        },
        "id": "oQPgfH3yzd04",
        "outputId": "3765dde1-513e-4d2e-fd0a-6b867f79fc3f"
      },
      "outputs": [
        {
          "output_type": "stream",
          "name": "stdout",
          "text": [
            "Epoch 1/30\n",
            "912/912 [==============================] - 28s 28ms/step - loss: 2.9629 - accuracy: 0.1356 - val_loss: 2.6631 - val_accuracy: 0.1939\n",
            "Epoch 2/30\n",
            "912/912 [==============================] - 25s 28ms/step - loss: 2.3839 - accuracy: 0.2733 - val_loss: 2.5177 - val_accuracy: 0.2440\n",
            "Epoch 3/30\n",
            "912/912 [==============================] - 25s 27ms/step - loss: 2.0413 - accuracy: 0.3650 - val_loss: 2.7495 - val_accuracy: 0.2390\n",
            "Epoch 4/30\n",
            "912/912 [==============================] - 25s 27ms/step - loss: 1.7517 - accuracy: 0.4464 - val_loss: 1.8878 - val_accuracy: 0.4048\n",
            "Epoch 5/30\n",
            "912/912 [==============================] - 25s 27ms/step - loss: 1.4953 - accuracy: 0.5272 - val_loss: 1.5732 - val_accuracy: 0.5119\n",
            "Epoch 6/30\n",
            "912/912 [==============================] - 25s 28ms/step - loss: 1.2610 - accuracy: 0.6024 - val_loss: 1.4771 - val_accuracy: 0.5524\n",
            "Epoch 7/30\n",
            "912/912 [==============================] - 25s 27ms/step - loss: 1.0378 - accuracy: 0.6793 - val_loss: 1.3116 - val_accuracy: 0.6013\n",
            "Epoch 8/30\n",
            "912/912 [==============================] - 25s 27ms/step - loss: 0.8683 - accuracy: 0.7377 - val_loss: 1.3314 - val_accuracy: 0.5974\n",
            "Epoch 9/30\n",
            "912/912 [==============================] - 25s 27ms/step - loss: 0.7227 - accuracy: 0.7852 - val_loss: 1.5423 - val_accuracy: 0.5733\n",
            "Epoch 10/30\n",
            "912/912 [==============================] - 25s 27ms/step - loss: 0.5886 - accuracy: 0.8303 - val_loss: 1.4835 - val_accuracy: 0.5929\n",
            "Epoch 11/30\n",
            "912/912 [==============================] - 25s 27ms/step - loss: 0.4964 - accuracy: 0.8605 - val_loss: 1.2848 - val_accuracy: 0.6379\n",
            "Epoch 12/30\n",
            "912/912 [==============================] - 25s 27ms/step - loss: 0.4316 - accuracy: 0.8781 - val_loss: 1.2351 - val_accuracy: 0.6655\n",
            "Epoch 13/30\n",
            "912/912 [==============================] - 25s 27ms/step - loss: 0.3640 - accuracy: 0.8996 - val_loss: 1.7843 - val_accuracy: 0.5458\n",
            "Epoch 14/30\n",
            "912/912 [==============================] - 25s 27ms/step - loss: 0.3234 - accuracy: 0.9139 - val_loss: 1.4953 - val_accuracy: 0.6061\n",
            "Epoch 15/30\n",
            "912/912 [==============================] - 25s 27ms/step - loss: 0.2776 - accuracy: 0.9267 - val_loss: 1.3150 - val_accuracy: 0.6568\n",
            "Epoch 16/30\n",
            "912/912 [==============================] - 25s 27ms/step - loss: 0.2455 - accuracy: 0.9363 - val_loss: 1.3410 - val_accuracy: 0.6594\n",
            "Epoch 17/30\n",
            "912/912 [==============================] - 25s 27ms/step - loss: 0.2149 - accuracy: 0.9447 - val_loss: 1.1467 - val_accuracy: 0.6960\n",
            "Epoch 18/30\n",
            "912/912 [==============================] - 25s 27ms/step - loss: 0.2108 - accuracy: 0.9460 - val_loss: 1.1932 - val_accuracy: 0.6940\n",
            "Epoch 19/30\n",
            "912/912 [==============================] - 25s 27ms/step - loss: 0.1825 - accuracy: 0.9524 - val_loss: 1.1682 - val_accuracy: 0.6937\n",
            "Epoch 20/30\n",
            "912/912 [==============================] - 25s 27ms/step - loss: 0.1607 - accuracy: 0.9585 - val_loss: 1.1271 - val_accuracy: 0.7035\n",
            "Epoch 21/30\n",
            "912/912 [==============================] - 25s 27ms/step - loss: 0.1615 - accuracy: 0.9579 - val_loss: 1.3471 - val_accuracy: 0.6695\n",
            "Epoch 22/30\n",
            "912/912 [==============================] - 25s 27ms/step - loss: 0.1503 - accuracy: 0.9590 - val_loss: 1.2135 - val_accuracy: 0.7021\n",
            "Epoch 23/30\n",
            "912/912 [==============================] - 25s 27ms/step - loss: 0.1186 - accuracy: 0.9721 - val_loss: 1.1865 - val_accuracy: 0.7095\n",
            "Epoch 24/30\n",
            "912/912 [==============================] - 25s 27ms/step - loss: 0.1298 - accuracy: 0.9664 - val_loss: 1.0883 - val_accuracy: 0.7193\n",
            "Epoch 25/30\n",
            "912/912 [==============================] - 25s 27ms/step - loss: 0.1174 - accuracy: 0.9695 - val_loss: 1.2638 - val_accuracy: 0.6935\n",
            "Epoch 26/30\n",
            "912/912 [==============================] - 25s 27ms/step - loss: 0.1081 - accuracy: 0.9717 - val_loss: 1.5067 - val_accuracy: 0.6591\n",
            "Epoch 27/30\n",
            "912/912 [==============================] - 25s 27ms/step - loss: 0.1006 - accuracy: 0.9734 - val_loss: 1.4662 - val_accuracy: 0.6433\n",
            "Epoch 28/30\n",
            "912/912 [==============================] - 25s 27ms/step - loss: 0.0926 - accuracy: 0.9763 - val_loss: 1.1630 - val_accuracy: 0.7180\n",
            "Epoch 29/30\n",
            "912/912 [==============================] - 25s 27ms/step - loss: 0.1042 - accuracy: 0.9719 - val_loss: 1.1269 - val_accuracy: 0.7271\n",
            "Epoch 30/30\n",
            "912/912 [==============================] - 25s 27ms/step - loss: 0.0862 - accuracy: 0.9777 - val_loss: 1.1395 - val_accuracy: 0.7251\n"
          ]
        },
        {
          "output_type": "execute_result",
          "data": {
            "text/plain": [
              "<keras.callbacks.History at 0x7f3d3818cbd0>"
            ]
          },
          "metadata": {},
          "execution_count": 27
        }
      ],
      "source": [
        "model.fit(x_train, y_train, batch_size = 20, epochs = 30, validation_freq=1, validation_data=(x_test, y_test))"
      ]
    },
    {
      "cell_type": "code",
      "execution_count": 34,
      "metadata": {
        "id": "4pchA0FFsfX7"
      },
      "outputs": [],
      "source": [
        "model.save('model.h5')"
      ]
    }
  ],
  "metadata": {
    "accelerator": "GPU",
    "colab": {
      "name": "ASL_NN.ipynb",
      "provenance": []
    },
    "gpuClass": "standard",
    "kernelspec": {
      "display_name": "Python 3",
      "name": "python3"
    },
    "language_info": {
      "name": "python"
    }
  },
  "nbformat": 4,
  "nbformat_minor": 0
}
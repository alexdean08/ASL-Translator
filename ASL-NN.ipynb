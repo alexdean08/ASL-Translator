{
  "cells": [
    {
      "cell_type": "markdown",
      "source": [
        "Download Dataset"
      ],
      "metadata": {
        "id": "I6eN6-_9zLZB"
      }
    },
    {
      "cell_type": "code",
      "source": [
        "! pip install --user kaggle\n",
        "! sudo apt install unzip"
      ],
      "metadata": {
        "id": "3Vmzu84MV2P8"
      },
      "execution_count": null,
      "outputs": []
    },
    {
      "cell_type": "code",
      "source": [
        "! mkdir /root/.kaggle\n",
        "! touch /root/.kaggle/kaggle.json\n",
        "! echo '{\"username\":\"----\",\"key\":\"----\"}' > /root/.kaggle/kaggle.json\n",
        "! kaggle datasets download lexset/synthetic-asl-alphabet"
      ],
      "metadata": {
        "id": "Tg2uNvjdV33y"
      },
      "execution_count": null,
      "outputs": []
    },
    {
      "cell_type": "code",
      "source": [
        "! unzip synthetic-asl-alphabet.zip"
      ],
      "metadata": {
        "id": "CCnFXtzNV9h0"
      },
      "execution_count": null,
      "outputs": []
    },
    {
      "cell_type": "markdown",
      "source": [
        "Import Necessary Libraries"
      ],
      "metadata": {
        "id": "xm_9LKTxzTMj"
      }
    },
    {
      "cell_type": "code",
      "execution_count": 1,
      "metadata": {
        "id": "xFonCtSzvBw5"
      },
      "outputs": [],
      "source": [
        "import numpy as np # linear algebra\n",
        "import pandas as pd # data processing, CSV file I/O (e.g. pd.read_csv)\n",
        "\n",
        "import tensorflow as tf\n",
        "from tensorflow.keras.models import Sequential\n",
        "from tensorflow.keras.layers import Dense, Dropout, Activation, Flatten, Conv2D, MaxPooling2D\n",
        "from tensorflow.keras.layers import BatchNormalization\n",
        "import cv2\n",
        "from sklearn.utils import shuffle\n",
        "from sklearn.model_selection import train_test_split\n",
        "\n",
        "import os\n",
        "from tqdm import tqdm\n",
        "import string"
      ]
    },
    {
      "cell_type": "markdown",
      "source": [
        "Prepare Images"
      ],
      "metadata": {
        "id": "56RG-YfTzYVB"
      }
    },
    {
      "cell_type": "code",
      "execution_count": 3,
      "metadata": {
        "id": "Mfw2q4XjlZ6g"
      },
      "outputs": [],
      "source": [
        "def rotate(image, angle):\n",
        "  image_center = tuple(np.array(image.shape[1::-1]) / 2)\n",
        "  rot_mat = cv2.getRotationMatrix2D(image_center, angle, 1.0)\n",
        "  rot_img = cv2.warpAffine(image, rot_mat, image.shape[1::-1], flags=cv2.INTER_LINEAR)\n",
        "  return rot_img"
      ]
    },
    {
      "cell_type": "code",
      "execution_count": 4,
      "metadata": {
        "colab": {
          "base_uri": "https://localhost:8080/"
        },
        "id": "zhAMM568yOkg",
        "outputId": "e33be61d-7fd2-4d67-cee0-4aa327d5a428"
      },
      "outputs": [
        {
          "output_type": "stream",
          "name": "stdout",
          "text": [
            "A\n"
          ]
        },
        {
          "output_type": "stream",
          "name": "stderr",
          "text": [
            "100%|██████████| 900/900 [00:15<00:00, 58.11it/s] \n"
          ]
        },
        {
          "output_type": "stream",
          "name": "stdout",
          "text": [
            "B\n"
          ]
        },
        {
          "output_type": "stream",
          "name": "stderr",
          "text": [
            "100%|██████████| 900/900 [00:08<00:00, 100.82it/s]\n"
          ]
        },
        {
          "output_type": "stream",
          "name": "stdout",
          "text": [
            "C\n"
          ]
        },
        {
          "output_type": "stream",
          "name": "stderr",
          "text": [
            "100%|██████████| 900/900 [00:09<00:00, 98.39it/s] \n"
          ]
        },
        {
          "output_type": "stream",
          "name": "stdout",
          "text": [
            "D\n"
          ]
        },
        {
          "output_type": "stream",
          "name": "stderr",
          "text": [
            "100%|██████████| 900/900 [00:09<00:00, 94.85it/s] \n"
          ]
        },
        {
          "output_type": "stream",
          "name": "stdout",
          "text": [
            "E\n"
          ]
        },
        {
          "output_type": "stream",
          "name": "stderr",
          "text": [
            "100%|██████████| 900/900 [00:09<00:00, 99.45it/s] \n"
          ]
        },
        {
          "output_type": "stream",
          "name": "stdout",
          "text": [
            "F\n"
          ]
        },
        {
          "output_type": "stream",
          "name": "stderr",
          "text": [
            "100%|██████████| 900/900 [00:09<00:00, 97.53it/s] \n"
          ]
        },
        {
          "output_type": "stream",
          "name": "stdout",
          "text": [
            "G\n"
          ]
        },
        {
          "output_type": "stream",
          "name": "stderr",
          "text": [
            "100%|██████████| 900/900 [00:09<00:00, 97.91it/s] \n"
          ]
        },
        {
          "output_type": "stream",
          "name": "stdout",
          "text": [
            "H\n"
          ]
        },
        {
          "output_type": "stream",
          "name": "stderr",
          "text": [
            "100%|██████████| 900/900 [00:09<00:00, 98.13it/s] \n"
          ]
        },
        {
          "output_type": "stream",
          "name": "stdout",
          "text": [
            "I\n"
          ]
        },
        {
          "output_type": "stream",
          "name": "stderr",
          "text": [
            "100%|██████████| 900/900 [00:10<00:00, 84.27it/s] \n"
          ]
        },
        {
          "output_type": "stream",
          "name": "stdout",
          "text": [
            "J\n"
          ]
        },
        {
          "output_type": "stream",
          "name": "stderr",
          "text": [
            "100%|██████████| 900/900 [00:09<00:00, 98.44it/s] \n"
          ]
        },
        {
          "output_type": "stream",
          "name": "stdout",
          "text": [
            "K\n"
          ]
        },
        {
          "output_type": "stream",
          "name": "stderr",
          "text": [
            "100%|██████████| 900/900 [00:09<00:00, 97.98it/s] \n"
          ]
        },
        {
          "output_type": "stream",
          "name": "stdout",
          "text": [
            "L\n"
          ]
        },
        {
          "output_type": "stream",
          "name": "stderr",
          "text": [
            "100%|██████████| 900/900 [00:09<00:00, 91.81it/s] \n"
          ]
        },
        {
          "output_type": "stream",
          "name": "stdout",
          "text": [
            "M\n"
          ]
        },
        {
          "output_type": "stream",
          "name": "stderr",
          "text": [
            "100%|██████████| 900/900 [00:09<00:00, 98.26it/s] \n"
          ]
        },
        {
          "output_type": "stream",
          "name": "stdout",
          "text": [
            "N\n"
          ]
        },
        {
          "output_type": "stream",
          "name": "stderr",
          "text": [
            "100%|██████████| 900/900 [00:09<00:00, 97.23it/s] \n"
          ]
        },
        {
          "output_type": "stream",
          "name": "stdout",
          "text": [
            "O\n"
          ]
        },
        {
          "output_type": "stream",
          "name": "stderr",
          "text": [
            "100%|██████████| 900/900 [00:09<00:00, 90.56it/s]\n"
          ]
        },
        {
          "output_type": "stream",
          "name": "stdout",
          "text": [
            "P\n"
          ]
        },
        {
          "output_type": "stream",
          "name": "stderr",
          "text": [
            "100%|██████████| 900/900 [00:09<00:00, 96.32it/s] \n"
          ]
        },
        {
          "output_type": "stream",
          "name": "stdout",
          "text": [
            "Q\n"
          ]
        },
        {
          "output_type": "stream",
          "name": "stderr",
          "text": [
            "100%|██████████| 900/900 [00:08<00:00, 100.01it/s]\n"
          ]
        },
        {
          "output_type": "stream",
          "name": "stdout",
          "text": [
            "R\n"
          ]
        },
        {
          "output_type": "stream",
          "name": "stderr",
          "text": [
            "100%|██████████| 900/900 [00:09<00:00, 96.91it/s] \n"
          ]
        },
        {
          "output_type": "stream",
          "name": "stdout",
          "text": [
            "S\n"
          ]
        },
        {
          "output_type": "stream",
          "name": "stderr",
          "text": [
            "100%|██████████| 900/900 [00:09<00:00, 97.31it/s] \n"
          ]
        },
        {
          "output_type": "stream",
          "name": "stdout",
          "text": [
            "T\n"
          ]
        },
        {
          "output_type": "stream",
          "name": "stderr",
          "text": [
            "100%|██████████| 900/900 [00:09<00:00, 96.50it/s] \n"
          ]
        },
        {
          "output_type": "stream",
          "name": "stdout",
          "text": [
            "U\n"
          ]
        },
        {
          "output_type": "stream",
          "name": "stderr",
          "text": [
            "100%|██████████| 900/900 [00:09<00:00, 96.32it/s] \n"
          ]
        },
        {
          "output_type": "stream",
          "name": "stdout",
          "text": [
            "V\n"
          ]
        },
        {
          "output_type": "stream",
          "name": "stderr",
          "text": [
            "100%|██████████| 900/900 [00:09<00:00, 95.24it/s] \n"
          ]
        },
        {
          "output_type": "stream",
          "name": "stdout",
          "text": [
            "W\n"
          ]
        },
        {
          "output_type": "stream",
          "name": "stderr",
          "text": [
            "100%|██████████| 900/900 [00:10<00:00, 89.72it/s]\n"
          ]
        },
        {
          "output_type": "stream",
          "name": "stdout",
          "text": [
            "X\n"
          ]
        },
        {
          "output_type": "stream",
          "name": "stderr",
          "text": [
            "100%|██████████| 900/900 [00:09<00:00, 94.61it/s] \n"
          ]
        },
        {
          "output_type": "stream",
          "name": "stdout",
          "text": [
            "Y\n"
          ]
        },
        {
          "output_type": "stream",
          "name": "stderr",
          "text": [
            "100%|██████████| 900/900 [00:09<00:00, 96.51it/s] \n"
          ]
        },
        {
          "output_type": "stream",
          "name": "stdout",
          "text": [
            "Z\n"
          ]
        },
        {
          "output_type": "stream",
          "name": "stderr",
          "text": [
            "100%|██████████| 900/900 [00:09<00:00, 96.84it/s] \n"
          ]
        },
        {
          "output_type": "stream",
          "name": "stdout",
          "text": [
            "Blank\n"
          ]
        },
        {
          "output_type": "stream",
          "name": "stderr",
          "text": [
            "100%|██████████| 900/900 [00:09<00:00, 95.59it/s]\n"
          ]
        }
      ],
      "source": [
        "img_size = 100\n",
        "data_dir = \"Train_Alphabet/\"\n",
        "X = []\n",
        "y = []\n",
        "i = -1\n",
        "alphabet = list(string.ascii_uppercase)\n",
        "alphabet.append('Blank')\n",
        "for folder in alphabet:\n",
        "    print(folder)\n",
        "    i+=1\n",
        "    img_num = -20\n",
        "    for img in tqdm(os.listdir(data_dir+folder)):\n",
        "        img_num += 1\n",
        "        if img_num > 20:\n",
        "          img_num = -20\n",
        "        img_file = cv2.imread(data_dir+folder+'/'+img)\n",
        "        img_file = cv2.cvtColor(img_file, cv2.COLOR_BGR2GRAY)\n",
        "        img_resized = cv2.resize(img_file, (img_size, img_size))\n",
        "        img_resized = rotate(img_resized, img_num)\n",
        "        X.append(img_resized)\n",
        "        y.append(i)\n",
        "X = np.asarray(X)\n",
        "y = np.asarray(y)"
      ]
    },
    {
      "cell_type": "code",
      "execution_count": 5,
      "metadata": {
        "id": "NFME3zoQyj99"
      },
      "outputs": [],
      "source": [
        "x_norm=tf.keras.utils.normalize(X, axis=1)"
      ]
    },
    {
      "cell_type": "markdown",
      "source": [
        "CNN"
      ],
      "metadata": {
        "id": "zJVRviTzztj8"
      }
    },
    {
      "cell_type": "code",
      "execution_count": 6,
      "metadata": {
        "id": "66UaQKa9y1K5"
      },
      "outputs": [],
      "source": [
        "x_train, x_test, y_train, y_test = train_test_split(x_norm, y, test_size=0.15, shuffle= True)\n",
        "\n",
        "\n",
        "model = Sequential()\n",
        "model.add(Conv2D(filters=100, input_shape=(img_size,img_size,1), kernel_size=(11,11), strides=(2,2), padding='same'))\n",
        "model.add(BatchNormalization())\n",
        "model.add(Activation('relu'))\n",
        "model.add(MaxPooling2D(pool_size=(2,2), strides=(2,2), padding='same'))\n",
        "\n",
        "model.add(Conv2D(filters=150, kernel_size=(3, 3), strides=(1,1), padding='same'))\n",
        "model.add(BatchNormalization())\n",
        "model.add(Activation('relu'))\n",
        "model.add(MaxPooling2D(pool_size=(2,2), strides=(2,2), padding='same'))\n",
        "model.add(Flatten())\n",
        "\n",
        "model.add(Dense(200))\n",
        "model.add(BatchNormalization())\n",
        "model.add(Activation('relu'))\n",
        "model.add(Dropout(0.7))\n",
        "\n",
        "model.add(Dense(150))\n",
        "model.add(BatchNormalization())\n",
        "model.add(Activation('relu'))\n",
        "model.add(Dropout(0.7))\n",
        "\n",
        "#2nd Fully Connected Layer\n",
        "model.add(Dense(27))\n",
        "model.add(BatchNormalization())\n",
        "model.add(Activation('softmax'))\n",
        "\n",
        "\n",
        "model.compile(loss='sparse_categorical_crossentropy', optimizer='adam', metrics=['accuracy'])"
      ]
    },
    {
      "cell_type": "code",
      "source": [
        "model.summary()"
      ],
      "metadata": {
        "colab": {
          "base_uri": "https://localhost:8080/"
        },
        "id": "VY6FBmW2WL80",
        "outputId": "d0b9a49d-246b-4a2a-e691-ff7109234fc0"
      },
      "execution_count": 7,
      "outputs": [
        {
          "output_type": "stream",
          "name": "stdout",
          "text": [
            "Model: \"sequential\"\n",
            "_________________________________________________________________\n",
            " Layer (type)                Output Shape              Param #   \n",
            "=================================================================\n",
            " conv2d (Conv2D)             (None, 50, 50, 100)       12200     \n",
            "                                                                 \n",
            " batch_normalization (BatchN  (None, 50, 50, 100)      400       \n",
            " ormalization)                                                   \n",
            "                                                                 \n",
            " activation (Activation)     (None, 50, 50, 100)       0         \n",
            "                                                                 \n",
            " max_pooling2d (MaxPooling2D  (None, 25, 25, 100)      0         \n",
            " )                                                               \n",
            "                                                                 \n",
            " conv2d_1 (Conv2D)           (None, 25, 25, 150)       135150    \n",
            "                                                                 \n",
            " batch_normalization_1 (Batc  (None, 25, 25, 150)      600       \n",
            " hNormalization)                                                 \n",
            "                                                                 \n",
            " activation_1 (Activation)   (None, 25, 25, 150)       0         \n",
            "                                                                 \n",
            " max_pooling2d_1 (MaxPooling  (None, 13, 13, 150)      0         \n",
            " 2D)                                                             \n",
            "                                                                 \n",
            " flatten (Flatten)           (None, 25350)             0         \n",
            "                                                                 \n",
            " dense (Dense)               (None, 200)               5070200   \n",
            "                                                                 \n",
            " batch_normalization_2 (Batc  (None, 200)              800       \n",
            " hNormalization)                                                 \n",
            "                                                                 \n",
            " activation_2 (Activation)   (None, 200)               0         \n",
            "                                                                 \n",
            " dropout (Dropout)           (None, 200)               0         \n",
            "                                                                 \n",
            " dense_1 (Dense)             (None, 150)               30150     \n",
            "                                                                 \n",
            " batch_normalization_3 (Batc  (None, 150)              600       \n",
            " hNormalization)                                                 \n",
            "                                                                 \n",
            " activation_3 (Activation)   (None, 150)               0         \n",
            "                                                                 \n",
            " dropout_1 (Dropout)         (None, 150)               0         \n",
            "                                                                 \n",
            " dense_2 (Dense)             (None, 27)                4077      \n",
            "                                                                 \n",
            " batch_normalization_4 (Batc  (None, 27)               108       \n",
            " hNormalization)                                                 \n",
            "                                                                 \n",
            " activation_4 (Activation)   (None, 27)                0         \n",
            "                                                                 \n",
            "=================================================================\n",
            "Total params: 5,254,285\n",
            "Trainable params: 5,253,031\n",
            "Non-trainable params: 1,254\n",
            "_________________________________________________________________\n"
          ]
        }
      ]
    },
    {
      "cell_type": "markdown",
      "source": [
        "Train Neural Net"
      ],
      "metadata": {
        "id": "ZuzhXt29z1i0"
      }
    },
    {
      "cell_type": "code",
      "execution_count": 10,
      "metadata": {
        "colab": {
          "base_uri": "https://localhost:8080/"
        },
        "id": "iCtHY2HR3Yth",
        "outputId": "3cade325-3a55-491d-d23a-46b2db0b0e94"
      },
      "outputs": [
        {
          "output_type": "stream",
          "name": "stdout",
          "text": [
            "Epoch 1/40\n",
            "517/517 [==============================] - 14s 26ms/step - loss: 0.4551 - accuracy: 0.8733 - val_loss: 0.2565 - val_accuracy: 0.9372\n",
            "Epoch 2/40\n",
            "517/517 [==============================] - 13s 25ms/step - loss: 0.4272 - accuracy: 0.8824 - val_loss: 0.5063 - val_accuracy: 0.8741\n",
            "Epoch 3/40\n",
            "517/517 [==============================] - 13s 25ms/step - loss: 0.4076 - accuracy: 0.8872 - val_loss: 0.3267 - val_accuracy: 0.9177\n",
            "Epoch 4/40\n",
            "517/517 [==============================] - 13s 25ms/step - loss: 0.3920 - accuracy: 0.8909 - val_loss: 0.2799 - val_accuracy: 0.9289\n",
            "Epoch 5/40\n",
            "517/517 [==============================] - 13s 25ms/step - loss: 0.3882 - accuracy: 0.8893 - val_loss: 0.2180 - val_accuracy: 0.9457\n",
            "Epoch 6/40\n",
            "517/517 [==============================] - 13s 25ms/step - loss: 0.3814 - accuracy: 0.8964 - val_loss: 0.4016 - val_accuracy: 0.8925\n",
            "Epoch 7/40\n",
            "517/517 [==============================] - 13s 26ms/step - loss: 0.3645 - accuracy: 0.8990 - val_loss: 0.2218 - val_accuracy: 0.9454\n",
            "Epoch 8/40\n",
            "517/517 [==============================] - 13s 25ms/step - loss: 0.3495 - accuracy: 0.9045 - val_loss: 0.2750 - val_accuracy: 0.9289\n",
            "Epoch 9/40\n",
            "517/517 [==============================] - 13s 25ms/step - loss: 0.3473 - accuracy: 0.9040 - val_loss: 0.2030 - val_accuracy: 0.9503\n",
            "Epoch 10/40\n",
            "517/517 [==============================] - 13s 25ms/step - loss: 0.3395 - accuracy: 0.9062 - val_loss: 0.6989 - val_accuracy: 0.8343\n",
            "Epoch 11/40\n",
            "517/517 [==============================] - 13s 25ms/step - loss: 0.3292 - accuracy: 0.9079 - val_loss: 0.2967 - val_accuracy: 0.9229\n",
            "Epoch 12/40\n",
            "517/517 [==============================] - 13s 25ms/step - loss: 0.3154 - accuracy: 0.9107 - val_loss: 0.2252 - val_accuracy: 0.9396\n",
            "Epoch 13/40\n",
            "517/517 [==============================] - 13s 25ms/step - loss: 0.3119 - accuracy: 0.9146 - val_loss: 0.3043 - val_accuracy: 0.9193\n",
            "Epoch 14/40\n",
            "517/517 [==============================] - 13s 25ms/step - loss: 0.2992 - accuracy: 0.9170 - val_loss: 0.2455 - val_accuracy: 0.9358\n",
            "Epoch 15/40\n",
            "517/517 [==============================] - 13s 25ms/step - loss: 0.2960 - accuracy: 0.9195 - val_loss: 0.5103 - val_accuracy: 0.8705\n",
            "Epoch 16/40\n",
            "517/517 [==============================] - 13s 25ms/step - loss: 0.2870 - accuracy: 0.9209 - val_loss: 0.2175 - val_accuracy: 0.9413\n",
            "Epoch 17/40\n",
            "517/517 [==============================] - 13s 25ms/step - loss: 0.2709 - accuracy: 0.9281 - val_loss: 0.4264 - val_accuracy: 0.8818\n",
            "Epoch 18/40\n",
            "517/517 [==============================] - 13s 25ms/step - loss: 0.2714 - accuracy: 0.9249 - val_loss: 0.2111 - val_accuracy: 0.9473\n",
            "Epoch 19/40\n",
            "517/517 [==============================] - 13s 25ms/step - loss: 0.2708 - accuracy: 0.9265 - val_loss: 0.3008 - val_accuracy: 0.9210\n",
            "Epoch 20/40\n",
            "517/517 [==============================] - 13s 25ms/step - loss: 0.2666 - accuracy: 0.9278 - val_loss: 0.2048 - val_accuracy: 0.9440\n",
            "Epoch 21/40\n",
            "517/517 [==============================] - 13s 25ms/step - loss: 0.2619 - accuracy: 0.9290 - val_loss: 0.1960 - val_accuracy: 0.9506\n",
            "Epoch 22/40\n",
            "517/517 [==============================] - 13s 25ms/step - loss: 0.2522 - accuracy: 0.9314 - val_loss: 0.3663 - val_accuracy: 0.9062\n",
            "Epoch 23/40\n",
            "517/517 [==============================] - 13s 25ms/step - loss: 0.2491 - accuracy: 0.9328 - val_loss: 0.2019 - val_accuracy: 0.9471\n",
            "Epoch 24/40\n",
            "517/517 [==============================] - 13s 25ms/step - loss: 0.2459 - accuracy: 0.9331 - val_loss: 0.4700 - val_accuracy: 0.8859\n",
            "Epoch 25/40\n",
            "517/517 [==============================] - 13s 25ms/step - loss: 0.2451 - accuracy: 0.9323 - val_loss: 0.3172 - val_accuracy: 0.9169\n",
            "Epoch 26/40\n",
            "517/517 [==============================] - 13s 25ms/step - loss: 0.2386 - accuracy: 0.9355 - val_loss: 1.1940 - val_accuracy: 0.7289\n",
            "Epoch 27/40\n",
            "517/517 [==============================] - 13s 26ms/step - loss: 0.2403 - accuracy: 0.9358 - val_loss: 0.2272 - val_accuracy: 0.9407\n",
            "Epoch 28/40\n",
            "517/517 [==============================] - 13s 25ms/step - loss: 0.2295 - accuracy: 0.9373 - val_loss: 0.3119 - val_accuracy: 0.9188\n",
            "Epoch 29/40\n",
            "517/517 [==============================] - 13s 25ms/step - loss: 0.2309 - accuracy: 0.9370 - val_loss: 0.1889 - val_accuracy: 0.9473\n",
            "Epoch 30/40\n",
            "517/517 [==============================] - 13s 25ms/step - loss: 0.2164 - accuracy: 0.9400 - val_loss: 0.2078 - val_accuracy: 0.9454\n",
            "Epoch 31/40\n",
            "517/517 [==============================] - 13s 25ms/step - loss: 0.2280 - accuracy: 0.9359 - val_loss: 0.3358 - val_accuracy: 0.9122\n",
            "Epoch 32/40\n",
            "517/517 [==============================] - 13s 25ms/step - loss: 0.2180 - accuracy: 0.9400 - val_loss: 0.1894 - val_accuracy: 0.9481\n",
            "Epoch 33/40\n",
            "517/517 [==============================] - 13s 25ms/step - loss: 0.2164 - accuracy: 0.9411 - val_loss: 0.4396 - val_accuracy: 0.8930\n",
            "Epoch 34/40\n",
            "517/517 [==============================] - 13s 25ms/step - loss: 0.2087 - accuracy: 0.9438 - val_loss: 0.1877 - val_accuracy: 0.9495\n",
            "Epoch 35/40\n",
            "517/517 [==============================] - 13s 25ms/step - loss: 0.2075 - accuracy: 0.9442 - val_loss: 0.7224 - val_accuracy: 0.8261\n",
            "Epoch 36/40\n",
            "517/517 [==============================] - 13s 25ms/step - loss: 0.2155 - accuracy: 0.9411 - val_loss: 0.6912 - val_accuracy: 0.8200\n",
            "Epoch 37/40\n",
            "517/517 [==============================] - 13s 25ms/step - loss: 0.2077 - accuracy: 0.9427 - val_loss: 0.3245 - val_accuracy: 0.9185\n",
            "Epoch 38/40\n",
            "517/517 [==============================] - 13s 25ms/step - loss: 0.2038 - accuracy: 0.9443 - val_loss: 0.1942 - val_accuracy: 0.9454\n",
            "Epoch 39/40\n",
            "517/517 [==============================] - 13s 25ms/step - loss: 0.1964 - accuracy: 0.9463 - val_loss: 0.5605 - val_accuracy: 0.8647\n",
            "Epoch 40/40\n",
            "517/517 [==============================] - 13s 25ms/step - loss: 0.1917 - accuracy: 0.9484 - val_loss: 0.1665 - val_accuracy: 0.9553\n"
          ]
        },
        {
          "output_type": "execute_result",
          "data": {
            "text/plain": [
              "<keras.callbacks.History at 0x7fdca62b4910>"
            ]
          },
          "metadata": {},
          "execution_count": 10
        }
      ],
      "source": [
        "model.fit(x_train, y_train, batch_size = 40, epochs = 40, validation_freq=1, validation_data=(x_test, y_test), verbose=1)"
      ]
    },
    {
      "cell_type": "markdown",
      "source": [
        "Evaluation"
      ],
      "metadata": {
        "id": "4akXnt2111-R"
      }
    },
    {
      "cell_type": "code",
      "source": [
        "results = model.evaluate(x_test, y_test)\n",
        "print('test accuracy:', results[1])"
      ],
      "metadata": {
        "colab": {
          "base_uri": "https://localhost:8080/"
        },
        "id": "qhjEdv3p11Pa",
        "outputId": "e76cd93e-0253-4bfc-aaf9-5af9e1959979"
      },
      "execution_count": 14,
      "outputs": [
        {
          "output_type": "stream",
          "name": "stdout",
          "text": [
            "114/114 [==============================] - 1s 11ms/step - loss: 0.1665 - accuracy: 0.9553\n",
            "test accuracy: 0.9552811980247498\n"
          ]
        }
      ]
    },
    {
      "cell_type": "code",
      "execution_count": 11,
      "metadata": {
        "id": "Pmqt_vt64qCG"
      },
      "outputs": [],
      "source": [
        " model.save('model.h5')"
      ]
    }
  ],
  "metadata": {
    "accelerator": "GPU",
    "colab": {
      "collapsed_sections": [],
      "name": "ASL_Reader.ipynb",
      "provenance": []
    },
    "gpuClass": "standard",
    "kernelspec": {
      "display_name": "Python 3",
      "name": "python3"
    },
    "language_info": {
      "name": "python"
    }
  },
  "nbformat": 4,
  "nbformat_minor": 0
}